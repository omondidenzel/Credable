{
 "cells": [
  {
   "cell_type": "code",
   "execution_count": 19,
   "metadata": {},
   "outputs": [
    {
     "name": "stdout",
     "output_type": "stream",
     "text": [
      "2025-03-19 16:09:23,766 - __main__ - INFO - Connected to the database\n",
      "2025-03-19 16:09:23,969 - __main__ - INFO - Data loaded successfully\n"
     ]
    }
   ],
   "source": [
    "import pandas as pd\n",
    "import numpy as np\n",
    "import matplotlib.pyplot as plt\n",
    "import statsmodels.api as sm\n",
    "from statsmodels.tsa.arima.model import ARIMA\n",
    "import psycopg2\n",
    "import logging\n",
    "from dotenv import find_dotenv, load_dotenv\n",
    "import sys\n",
    "import os\n",
    "\n",
    "# Set up logging\n",
    "logging.basicConfig(\n",
    "    stream=sys.stdout,\n",
    "    format=\"%(asctime)s - %(name)s - %(levelname)s - %(message)s\",\n",
    "    level=logging.INFO,\n",
    ")\n",
    "log = logging.getLogger(__name__)\n",
    "\n",
    "# Load environment variables\n",
    "load_dotenv(find_dotenv(), override=True)\n",
    "\n",
    "# Initialize DataFrames outside the try block\n",
    "disbursement = pd.DataFrame()\n",
    "repayments = pd.DataFrame()\n",
    "\n",
    "# Database connection\n",
    "connection = psycopg2.connect(\n",
    "    host=os.getenv(\"DB_HOST\"),\n",
    "    port=os.getenv(\"DB_PORT\"),\n",
    "    user=os.getenv(\"DB_USER\"),\n",
    "    password=os.getenv(\"DB_PASSWORD\"),\n",
    "    database=os.getenv(\"DB_NAME\"),\n",
    ")\n",
    "\n",
    "try:\n",
    "    with connection.cursor() as cursor:\n",
    "        log.info(\"Connected to the database\")\n",
    "        # Fetch disbursement data and load into pandas DataFrame\n",
    "        cursor.execute(\"SELECT * FROM public.disbursements\")  # No schema prefix needed\n",
    "        disbursement_data = cursor.fetchall()\n",
    "        disbursement = pd.DataFrame(disbursement_data)\n",
    "        disbursement.columns = [desc[0] for desc in cursor.description]\n",
    "        # print(disbursement.head())\n",
    "\n",
    "        # Fetch repayments data and load into pandas DataFrame\n",
    "        cursor.execute(\"SELECT * FROM public.repayments\")  # No schema prefix needed\n",
    "        repayments_data = cursor.fetchall()\n",
    "        repayments = pd.DataFrame(repayments_data)\n",
    "        repayments.columns = [desc[0] for desc in cursor.description]\n",
    "        # print(repayments.head())\n",
    "        \n",
    "        log.info(\"Data loaded successfully\")\n",
    "except Exception as e:\n",
    "    log.error(f\"Error: {e}\")\n",
    "\n",
    "\n",
    "# Aggregate profit/loss by month\n",
    "disbursement['disb_date'] = pd.to_datetime(disbursement['disb_date']).dt.date\n",
    "repayments['date_time'] = pd.to_datetime(\n",
    "    repayments['date_time'],\n",
    "    format='%d-%b-%y %I.%M.%S.%f %p', \n",
    "    errors='coerce'\n",
    ").dt.date\n",
    "\n",
    "# Extract month from date\n",
    "disbursement['month'] = pd.to_datetime(disbursement['disb_date']).dt.to_period('M')\n",
    "repayments['month'] = pd.to_datetime(repayments['date_time']).dt.to_period('M')\n",
    "\n",
    "# Compute profit (sum of repayments - sum of loans disbursed)\n",
    "profit_loss = repayments.groupby('month')['amount'].sum() - disbursement.groupby('month')['loan_amount'].sum()\n",
    "profit_loss = profit_loss.reset_index()\n",
    "profit_loss['month'] = profit_loss['month'].astype(str)\n",
    "profit_loss.set_index('month', inplace=True)"
   ]
  },
  {
   "cell_type": "code",
   "execution_count": 20,
   "metadata": {},
   "outputs": [
    {
     "name": "stderr",
     "output_type": "stream",
     "text": [
      "/Users/omondidenzel/Desktop/Credable/venv/lib/python3.9/site-packages/statsmodels/tsa/base/tsa_model.py:473: ValueWarning: No frequency information was provided, so inferred frequency MS will be used.\n",
      "  self._init_dates(dates, freq)\n",
      "/Users/omondidenzel/Desktop/Credable/venv/lib/python3.9/site-packages/statsmodels/tsa/base/tsa_model.py:473: ValueWarning: No frequency information was provided, so inferred frequency MS will be used.\n",
      "  self._init_dates(dates, freq)\n",
      "/Users/omondidenzel/Desktop/Credable/venv/lib/python3.9/site-packages/statsmodels/tsa/base/tsa_model.py:473: ValueWarning: No frequency information was provided, so inferred frequency MS will be used.\n",
      "  self._init_dates(dates, freq)\n",
      "/Users/omondidenzel/Desktop/Credable/venv/lib/python3.9/site-packages/statsmodels/tsa/statespace/sarimax.py:866: UserWarning: Too few observations to estimate starting parameters for ARMA and trend. All parameters except for variances will be set to zeros.\n",
      "  warn('Too few observations to estimate starting parameters%s.'\n",
      "/var/folders/7q/gfxql4q11f1g78r_fvhntcgc0000gn/T/ipykernel_25031/3463887823.py:15: FutureWarning: 'M' is deprecated and will be removed in a future version, please use 'ME' instead.\n",
      "  plt.plot(pd.date_range(start=profit_loss.index[-1], periods=forecast_steps+1, freq='M')[1:], forecast, label=\"Forecast\", linestyle=\"dashed\")\n"
     ]
    },
    {
     "data": {
      "image/png": "[encoded data removed]",
      "text/plain": [
       "<Figure size 1000x500 with 1 Axes>"
      ]
     },
     "metadata": {},
     "output_type": "display_data"
    }
   ],
   "source": [
    "# Convert index to datetime\n",
    "profit_loss.index = pd.to_datetime(profit_loss.index)\n",
    "\n",
    "# Fit ARIMA Model\n",
    "model = ARIMA(profit_loss, order=(2,1,2))  # ARIMA(p,d,q)\n",
    "model_fit = model.fit()\n",
    "\n",
    "# Forecast next 3 months\n",
    "forecast_steps = 3\n",
    "forecast = model_fit.forecast(steps=forecast_steps)\n",
    "\n",
    "# Plot results\n",
    "plt.figure(figsize=(10,5))\n",
    "plt.plot(profit_loss, label=\"Historical Profit/Loss\")\n",
    "plt.plot(pd.date_range(start=profit_loss.index[-1], periods=forecast_steps+1, freq='M')[1:], forecast, label=\"Forecast\", linestyle=\"dashed\")\n",
    "plt.legend()\n",
    "plt.title(\"3-Month Profit/Loss Forecast\")\n",
    "plt.show()\n"
   ]
  }
 ],
 "metadata": {
  "kernelspec": {
   "display_name": "venv",
   "language": "python",
   "name": "python3"
  },
  "language_info": {
   "codemirror_mode": {
    "name": "ipython",
    "version": 3
   },
   "file_extension": ".py",
   "mimetype": "text/x-python",
   "name": "python",
   "nbconvert_exporter": "python",
   "pygments_lexer": "ipython3",
   "version": "3.9.6"
  }
 },
 "nbformat": 4,
 "nbformat_minor": 2
}
